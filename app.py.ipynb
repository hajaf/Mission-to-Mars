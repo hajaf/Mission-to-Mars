{
 "cells": [
  {
   "cell_type": "code",
   "execution_count": 1,
   "id": "942963aa",
   "metadata": {},
   "outputs": [
    {
     "name": "stdout",
     "output_type": "stream",
     "text": [
      "Requirement already satisfied: scraping in c:\\users\\hajaf\\anaconda3\\envs\\pythondata\\lib\\site-packages (0.0.3)\n",
      "Note: you may need to restart the kernel to use updated packages.\n"
     ]
    }
   ],
   "source": [
    "pip install scraping"
   ]
  },
  {
   "cell_type": "code",
   "execution_count": 2,
   "id": "3ef818bd",
   "metadata": {},
   "outputs": [
    {
     "name": "stdout",
     "output_type": "stream",
     "text": [
      "Requirement already satisfied: flask_pymongo in c:\\users\\hajaf\\anaconda3\\envs\\pythondata\\lib\\site-packages (2.3.0)\n",
      "Requirement already satisfied: PyMongo>=3.3 in c:\\users\\hajaf\\anaconda3\\envs\\pythondata\\lib\\site-packages (from flask_pymongo) (4.1.1)\n",
      "Requirement already satisfied: Flask>=0.11 in c:\\users\\hajaf\\anaconda3\\envs\\pythondata\\lib\\site-packages (from flask_pymongo) (1.1.2)\n",
      "Requirement already satisfied: Werkzeug>=0.15 in c:\\users\\hajaf\\anaconda3\\envs\\pythondata\\lib\\site-packages (from Flask>=0.11->flask_pymongo) (2.0.2)\n",
      "Requirement already satisfied: itsdangerous>=0.24 in c:\\users\\hajaf\\anaconda3\\envs\\pythondata\\lib\\site-packages (from Flask>=0.11->flask_pymongo) (2.0.1)\n",
      "Requirement already satisfied: Jinja2>=2.10.1 in c:\\users\\hajaf\\anaconda3\\envs\\pythondata\\lib\\site-packages (from Flask>=0.11->flask_pymongo) (2.11.3)\n",
      "Requirement already satisfied: click>=5.1 in c:\\users\\hajaf\\anaconda3\\envs\\pythondata\\lib\\site-packages (from Flask>=0.11->flask_pymongo) (8.0.3)\n",
      "Requirement already satisfied: colorama in c:\\users\\hajaf\\anaconda3\\envs\\pythondata\\lib\\site-packages (from click>=5.1->Flask>=0.11->flask_pymongo) (0.4.4)\n",
      "Requirement already satisfied: importlib-metadata in c:\\users\\hajaf\\anaconda3\\envs\\pythondata\\lib\\site-packages (from click>=5.1->Flask>=0.11->flask_pymongo) (4.8.1)\n",
      "Requirement already satisfied: MarkupSafe>=0.23 in c:\\users\\hajaf\\anaconda3\\envs\\pythondata\\lib\\site-packages (from Jinja2>=2.10.1->Flask>=0.11->flask_pymongo) (1.1.1)\n",
      "Requirement already satisfied: zipp>=0.5 in c:\\users\\hajaf\\anaconda3\\envs\\pythondata\\lib\\site-packages (from importlib-metadata->click>=5.1->Flask>=0.11->flask_pymongo) (3.6.0)\n",
      "Requirement already satisfied: typing-extensions>=3.6.4 in c:\\users\\hajaf\\anaconda3\\envs\\pythondata\\lib\\site-packages (from importlib-metadata->click>=5.1->Flask>=0.11->flask_pymongo) (3.10.0.2)\n",
      "Note: you may need to restart the kernel to use updated packages.\n"
     ]
    }
   ],
   "source": [
    "pip install flask_pymongo"
   ]
  },
  {
   "cell_type": "code",
   "execution_count": 3,
   "id": "fd3077aa",
   "metadata": {},
   "outputs": [
    {
     "ename": "ModuleNotFoundError",
     "evalue": "No module named 'scraping'",
     "output_type": "error",
     "traceback": [
      "\u001b[1;31m---------------------------------------------------------------------------\u001b[0m",
      "\u001b[1;31mModuleNotFoundError\u001b[0m                       Traceback (most recent call last)",
      "\u001b[1;32m~\\AppData\\Local\\Temp/ipykernel_15676/379545566.py\u001b[0m in \u001b[0;36m<module>\u001b[1;34m\u001b[0m\n\u001b[0;32m      1\u001b[0m \u001b[1;32mfrom\u001b[0m \u001b[0mflask\u001b[0m \u001b[1;32mimport\u001b[0m \u001b[0mFlask\u001b[0m\u001b[1;33m,\u001b[0m \u001b[0mrender_template\u001b[0m\u001b[1;33m,\u001b[0m \u001b[0mredirect\u001b[0m\u001b[1;33m,\u001b[0m \u001b[0murl_for\u001b[0m\u001b[1;33m\u001b[0m\u001b[1;33m\u001b[0m\u001b[0m\n\u001b[0;32m      2\u001b[0m \u001b[1;32mfrom\u001b[0m \u001b[0mflask_pymongo\u001b[0m \u001b[1;32mimport\u001b[0m \u001b[0mPyMongo\u001b[0m\u001b[1;33m\u001b[0m\u001b[1;33m\u001b[0m\u001b[0m\n\u001b[1;32m----> 3\u001b[1;33m \u001b[1;32mimport\u001b[0m \u001b[0mscraping\u001b[0m\u001b[1;33m\u001b[0m\u001b[1;33m\u001b[0m\u001b[0m\n\u001b[0m",
      "\u001b[1;31mModuleNotFoundError\u001b[0m: No module named 'scraping'"
     ]
    }
   ],
   "source": [
    "from flask import Flask, render_template, redirect, url_for\n",
    "from flask_pymongo import PyMongo\n",
    "import scraping"
   ]
  },
  {
   "cell_type": "code",
   "execution_count": null,
   "id": "d2cbce9b",
   "metadata": {},
   "outputs": [],
   "source": [
    "app = Flask(__name__)\n"
   ]
  },
  {
   "cell_type": "code",
   "execution_count": null,
   "id": "db8980b8",
   "metadata": {},
   "outputs": [],
   "source": [
    "# Use flask_pymongo to set up mongo connection\n",
    "app.config[\"MONGO_URI\"] = \"mongodb://localhost:27017/mars_app\"\n",
    "mongo = PyMongo(app)"
   ]
  },
  {
   "cell_type": "code",
   "execution_count": 4,
   "id": "d6bea5e6",
   "metadata": {},
   "outputs": [
    {
     "name": "stdout",
     "output_type": "stream",
     "text": [
      "Name: scraping\n",
      "Version: 0.0.3\n",
      "Summary: 1st python package\n",
      "Home-page: http://github.com/neocxf/py-starter\n",
      "Author: Neo Chen\n",
      "Author-email: neocxf@gmail.com\n",
      "License: MIT\n",
      "Location: c:\\users\\hajaf\\anaconda3\\envs\\pythondata\\lib\\site-packages\n",
      "Requires: \n",
      "Required-by: \n",
      "Note: you may need to restart the kernel to use updated packages.\n"
     ]
    }
   ],
   "source": [
    "pip show scraping"
   ]
  },
  {
   "cell_type": "code",
   "execution_count": null,
   "id": "b2c50137",
   "metadata": {},
   "outputs": [],
   "source": []
  }
 ],
 "metadata": {
  "kernelspec": {
   "display_name": "PythonData",
   "language": "python",
   "name": "pythondata"
  },
  "language_info": {
   "codemirror_mode": {
    "name": "ipython",
    "version": 3
   },
   "file_extension": ".py",
   "mimetype": "text/x-python",
   "name": "python",
   "nbconvert_exporter": "python",
   "pygments_lexer": "ipython3",
   "version": "3.7.11"
  }
 },
 "nbformat": 4,
 "nbformat_minor": 5
}
